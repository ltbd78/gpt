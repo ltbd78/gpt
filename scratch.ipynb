{
 "cells": [
  {
   "cell_type": "code",
   "execution_count": 1,
   "id": "050b1a81-1747-4a6b-beac-1b4120143a15",
   "metadata": {},
   "outputs": [],
   "source": [
    "# https://github.com/pytorch/pytorch/blob/3cbe7a53a9a1cea2ef2a042f1ab6f7758f7e4d74/torch/csrc/api/include/torch/nn/functional/activation.h#L643"
   ]
  },
  {
   "cell_type": "code",
   "execution_count": 2,
   "id": "eed0e657-8ca7-46f8-b98e-ea641cd96b90",
   "metadata": {},
   "outputs": [],
   "source": [
    "# https://raw.githubusercontent.com/karpathy/char-rnn/master/data/tinyshakespeare/input.txt"
   ]
  },
  {
   "cell_type": "code",
   "execution_count": 3,
   "id": "f1bc23e8-3f2b-4aa2-84bc-f034ef1099e3",
   "metadata": {},
   "outputs": [],
   "source": [
    "# https://youtu.be/kCc8FmEb1nY?si=AEN-_b8nxN1nxvDf&t=5248"
   ]
  },
  {
   "cell_type": "code",
   "execution_count": null,
   "id": "6cae412b-f8ff-4a87-8cd6-c06a245a3f63",
   "metadata": {},
   "outputs": [],
   "source": [
    "# https://github.com/karpathy/nanoGPT/issues/399"
   ]
  },
  {
   "cell_type": "code",
   "execution_count": 4,
   "id": "aafc433e-2bc5-48b1-9a59-cf0044b01193",
   "metadata": {},
   "outputs": [],
   "source": [
    "# sentencepiece\n",
    "# tiktoken"
   ]
  },
  {
   "cell_type": "code",
   "execution_count": 5,
   "id": "3f7fb02d-1855-4cc4-808c-0d74d5014577",
   "metadata": {},
   "outputs": [],
   "source": [
    "# import tiktoken\n",
    "# enc = tiktoken.get_encoding('gpt2')\n",
    "# enc.encode('hi my name is linsu!')\n",
    "# enc.decode([5303, 616, 1438, 318, 300, 1040, 84, 0])"
   ]
  },
  {
   "cell_type": "markdown",
   "id": "ff060a1c-0799-43e8-96b2-d4ea570e49b7",
   "metadata": {},
   "source": [
    "![](diagram.png)"
   ]
  },
  {
   "cell_type": "code",
   "execution_count": 6,
   "id": "0cf8c377-cd94-49bf-8dbc-7c24a3e5bddc",
   "metadata": {},
   "outputs": [],
   "source": [
    "import torch\n",
    "import torch.nn as nn\n",
    "import torch.nn.functional as F"
   ]
  },
  {
   "cell_type": "code",
   "execution_count": 7,
   "id": "554699f6-13ac-4473-bc0c-f66868949498",
   "metadata": {},
   "outputs": [],
   "source": [
    "B, T, E = 4, 8, 2\n",
    "x = torch.randn(B, T, E)\n",
    "xbow = torch.zeros((B, T, E))"
   ]
  },
  {
   "cell_type": "code",
   "execution_count": 8,
   "id": "640b2c36-b359-4a16-9325-1fe5b5fef903",
   "metadata": {},
   "outputs": [],
   "source": [
    "# method 1\n",
    "for b in range(B):\n",
    "    for t in range(T):\n",
    "        xprev = x[b,:t+1] # (t, D)\n",
    "        xbow[b, t] = torch.mean(xprev, 0) # (D,)"
   ]
  },
  {
   "cell_type": "code",
   "execution_count": 9,
   "id": "fb26b63d-e04c-4f1b-9891-2e4226a8bdb5",
   "metadata": {},
   "outputs": [],
   "source": [
    "# method 2\n",
    "wei = torch.tril(torch.ones((T, T)))\n",
    "wei = wei / wei.sum(1, keepdim=True)\n",
    "xbow2 = wei @ x # (-, T, T) @ (B, T, C) = (B, T, C)"
   ]
  },
  {
   "cell_type": "code",
   "execution_count": 10,
   "id": "adc56176-43db-4baf-b9d8-9e1afcea5818",
   "metadata": {},
   "outputs": [],
   "source": [
    "# method 3\n",
    "tril = torch.tril(torch.ones(T, T))\n",
    "wei = torch.zeros((T, T))\n",
    "wei = wei.masked_fill(tril == 0, float('-inf'))\n",
    "wei = F.softmax(wei, dim=-1)\n",
    "xbow3 = wei @ x # (-, T, T) @ (B, T, C) = (B, T, C)"
   ]
  },
  {
   "cell_type": "code",
   "execution_count": 11,
   "id": "1bebeeb3-60bb-4875-8c5e-e8cf4f527f30",
   "metadata": {},
   "outputs": [],
   "source": [
    "# method 4: Attention Mechanism\n",
    "head_dim = 16\n",
    "query = nn.Linear(E, head_dim, bias=False)\n",
    "key = nn.Linear(E, head_dim, bias=False)\n",
    "value = nn.Linear(E, head_dim, bias=False)\n",
    "q = query(x) # q = Wx (B, T, 16)\n",
    "k = key(x) # k = Wx (B, T, 16)\n",
    "v = value(x) # v = Wx (B, T, 16)\n",
    "\n",
    "# dot product between two vectors measures similarity\n",
    "# this matrix multiplication dots each vector to every other vector\n",
    "wei = q @ k.transpose(-2, -1) # (B, T, 16) @ (8, 16, T) = (B, T, T)\n",
    "wei = wei * head_dim**(-0.5)\n",
    "\n",
    "tril = torch.tril(torch.ones(T, T)) # optional (for decoder)\n",
    "wei = wei.masked_fill(tril == 0, float('-inf')) # optional (for decoder)\n",
    "wei = F.softmax(wei, dim=-1)\n",
    "out = wei @ v # (B, T, T) @ (B, T, H) = (B, T, H)"
   ]
  }
 ],
 "metadata": {
  "kernelspec": {
   "display_name": "Python 3 (ipykernel)",
   "language": "python",
   "name": "python3"
  },
  "language_info": {
   "codemirror_mode": {
    "name": "ipython",
    "version": 3
   },
   "file_extension": ".py",
   "mimetype": "text/x-python",
   "name": "python",
   "nbconvert_exporter": "python",
   "pygments_lexer": "ipython3",
   "version": "3.11.5"
  }
 },
 "nbformat": 4,
 "nbformat_minor": 5
}
