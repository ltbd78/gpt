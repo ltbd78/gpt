{
 "cells": [
  {
   "cell_type": "code",
   "execution_count": null,
   "id": "a67c8957-7e84-4d35-ab0a-cc8717d68a7e",
   "metadata": {
    "tags": []
   },
   "outputs": [],
   "source": [
    "import kfp\n",
    "from kfp.dsl import Input, Output, Artifact # https://www.kubeflow.org/docs/components/pipelines/v2/data-types/artifacts/\n",
    "from google.cloud import aiplatform\n",
    "from typing import Union, List"
   ]
  },
  {
   "cell_type": "code",
   "execution_count": null,
   "id": "b7352c98-d28b-4e87-b3a2-bfa6b8305b3c",
   "metadata": {
    "tags": []
   },
   "outputs": [],
   "source": [
    "PROJECT_ID = <your-project-id>\n",
    "! gcloud config set project {PROJECT_ID}\n",
    "REGION = \"us-central1\"\n",
    "BUCKET_URI = \"gs://lh-sandbox\"\n",
    "! gsutil mb -l {REGION} -p {PROJECT_ID} {BUCKET_URI}\n",
    "shell_output = !gcloud auth list\n",
    "SERVICE_ACCOUNT = shell_output[2].replace(\"*\", \"\").strip()\n",
    "! gsutil iam ch serviceAccount:{SERVICE_ACCOUNT}:roles/storage.objectCreator $BUCKET_URI\n",
    "! gsutil iam ch serviceAccount:{SERVICE_ACCOUNT}:roles/storage.objectViewer $BUCKET_URI\n",
    "BASE_IMAGE = f\"{REGION}-docker.pkg.dev/{PROJECT_ID}/lh-sandbox/kfp_tutorial:latest\""
   ]
  },
  {
   "cell_type": "code",
   "execution_count": null,
   "id": "f7b2f43b-728d-4b5b-8faf-f6744252089b",
   "metadata": {
    "tags": []
   },
   "outputs": [],
   "source": [
    "dockerfile = f\"\"\"FROM us-docker.pkg.dev/vertex-ai/prediction/sklearn-cpu.1-3:latest\n",
    "RUN python -m pip install --upgrade pip kfp\"\"\"\n",
    "!echo \"$dockerfile\" > Dockerfile.tutorial\n",
    "# !gcloud auth configure-docker us-central1-docker.pkg.dev\n",
    "!docker build -t $BASE_IMAGE -f Dockerfile.tutorial .\n",
    "!docker push $BASE_IMAGE"
   ]
  },
  {
   "cell_type": "code",
   "execution_count": null,
   "id": "10682b48-d411-4299-974d-76440c899c6f",
   "metadata": {
    "tags": []
   },
   "outputs": [],
   "source": [
    "# decorator review\n",
    "def run_n_times(n):\n",
    "    def decorator(func):\n",
    "        def wrapper(*args, **kwargs): # wrapper should have same args as func; if unknown use *args, **kwargs\n",
    "            for _ in range(n):\n",
    "                func(*args, **kwargs)\n",
    "        return wrapper\n",
    "    return decorator\n",
    "\n",
    "@run_n_times(4)\n",
    "def print_once(string):\n",
    "    print(string)\n",
    "# equivalent to\n",
    "# print_once = run_n_times(4)(print_once)\n",
    "\n",
    "print_once(\"hello world\")"
   ]
  },
  {
   "cell_type": "code",
   "execution_count": null,
   "id": "7f6b6ee2-90c2-4641-90c0-4f8566791388",
   "metadata": {
    "tags": []
   },
   "outputs": [],
   "source": [
    "@kfp.dsl.component(base_image=BASE_IMAGE) #, packages_to_install=['kfp']) # won't work bc not connected to internet\n",
    "def A(d: dict, f: float, s: str) -> list:\n",
    "    print(d)\n",
    "    square = f ** 2\n",
    "    return [square, s] # can return int, float, bool, str, dict, list; other types not supported i.e. tuple\n",
    "\n",
    "@kfp.dsl.component(base_image=BASE_IMAGE)\n",
    "def B(l: list, b: bool, a: Output[Artifact]) -> int:\n",
    "    import os\n",
    "    \n",
    "    print(l)\n",
    "    \n",
    "    print(a.path) # defaults to blah/blah/<name-of-variable> -> blah/blah/a\n",
    "    # path be used as either a file OR directory; can't do both\n",
    "\n",
    "    if b: # use path as file\n",
    "        with open(a.path, 'w') as file:\n",
    "            file.write(l[1]) # file will be named <name-of-variable> -> a\n",
    "\n",
    "    if not b: # use path as directory\n",
    "        os.makedirs(a.path, exist_ok=True)\n",
    "        with open(os.path.join(a.path, 'f1.txt'), 'w') as file:\n",
    "            file.write(l[1])\n",
    "        with open(os.path.join(a.path, 'f2.txt'), 'w') as file:\n",
    "            file.write(l[1])\n",
    "\n",
    "    return int(l[0])\n",
    "\n",
    "@kfp.dsl.component(base_image=BASE_IMAGE)\n",
    "def C(a: Input[Artifact], i: int):\n",
    "    print('path:', a.path) # used in code\n",
    "    print('uri:', a.uri) # hyperlink to gcp ui\n",
    "    print('metadata:', a.metadata)\n",
    "    print('name:', a.name) # cannot be overwritten"
   ]
  },
  {
   "cell_type": "code",
   "execution_count": null,
   "id": "dcf8fe43-e283-4679-9912-ec2d5f90d7ee",
   "metadata": {
    "tags": []
   },
   "outputs": [],
   "source": [
    "@kfp.dsl.pipeline\n",
    "def pipeline(d: dict, f: float, s: str):\n",
    "    task1 = A(d=d, f=f, s=s)\n",
    "    print(task1.output)\n",
    "    print(task1.outputs)\n",
    "    print()\n",
    "    # Note: task1.output == task1.outputs['Output']\n",
    "    \n",
    "    # https://cloud.google.com/vertex-ai/docs/pipelines/machine-types\n",
    "    task2 = B(l=task1.output, b=False).set_cpu_limit('1').set_memory_limit('4G') # .add_node_selector_constraint('NVIDIA_TESLA_V100').set_gpu_limit('1')\n",
    "    # print(task2.output) # errors bc component B has > 1 outputs: ('e', 'Output')\n",
    "    print(task2.outputs)\n",
    "    print()\n",
    "    \n",
    "    task3 = C(a=task2.outputs['a'], i=task2.outputs['Output'])\n",
    "    # print(task3.output) # errors bc component C has 0 outputs\n",
    "    print(task3.outputs)"
   ]
  },
  {
   "cell_type": "code",
   "execution_count": null,
   "id": "6b4de399-6397-4dd4-bf5a-3d88e3c69d2b",
   "metadata": {
    "tags": []
   },
   "outputs": [],
   "source": [
    "compiler = kfp.compiler.Compiler()\n",
    "compiler.compile(\n",
    "    pipeline_func=pipeline, package_path=\"tutorial.yaml\"\n",
    ")"
   ]
  },
  {
   "cell_type": "code",
   "execution_count": null,
   "id": "faae5b8c-8768-4563-9635-e21b7705de09",
   "metadata": {
    "tags": []
   },
   "outputs": [],
   "source": [
    "job = aiplatform.PipelineJob(\n",
    "    display_name=\"tutorial\",\n",
    "    template_path=\"./tutorial.yaml\",\n",
    "    pipeline_root=f\"{BUCKET_URI}/tutorial\", # where component outputs are stored during pipeline runs\n",
    "    parameter_values={ # what to pass into kfp.dsl.pipeline arguments\n",
    "        'd': {'hello': 'world'},\n",
    "        'f': 2.0,\n",
    "        's': 'hi',\n",
    "    },\n",
    "    enable_caching=False # rerun pipeline tasks each time instead of using cache\n",
    ")"
   ]
  },
  {
   "cell_type": "code",
   "execution_count": null,
   "id": "691c51f9-2c00-4661-a4b9-a541d033db88",
   "metadata": {
    "tags": []
   },
   "outputs": [],
   "source": [
    "job.run()"
   ]
  }
 ],
 "metadata": {
  "environment": {
   "kernel": "python3",
   "name": ".m113",
   "type": "gcloud",
   "uri": "gcr.io/deeplearning-platform-release/:m113"
  },
  "kernelspec": {
   "display_name": "Python 3",
   "language": "python",
   "name": "python3"
  },
  "language_info": {
   "codemirror_mode": {
    "name": "ipython",
    "version": 3
   },
   "file_extension": ".py",
   "mimetype": "text/x-python",
   "name": "python",
   "nbconvert_exporter": "python",
   "pygments_lexer": "ipython3",
   "version": "3.10.13"
  }
 },
 "nbformat": 4,
 "nbformat_minor": 5
}
